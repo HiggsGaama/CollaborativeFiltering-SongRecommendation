{
 "cells": [
  {
   "cell_type": "code",
   "execution_count": 3,
   "metadata": {},
   "outputs": [],
   "source": [
    "import pandas as pd"
   ]
  },
  {
   "cell_type": "markdown",
   "metadata": {},
   "source": [
    "<h1>Import data</h1>"
   ]
  },
  {
   "cell_type": "code",
   "execution_count": 4,
   "metadata": {},
   "outputs": [],
   "source": [
    "songData = pd.read_csv(\"songsDataset.csv\")\n",
    "songData.columns = ['userID', 'songID', 'rating']"
   ]
  },
  {
   "cell_type": "markdown",
   "metadata": {},
   "source": [
    "<h1> Data Exploration </h2>"
   ]
  },
  {
   "cell_type": "code",
   "execution_count": 5,
   "metadata": {},
   "outputs": [
    {
     "data": {
      "text/html": [
       "<div>\n",
       "<style scoped>\n",
       "    .dataframe tbody tr th:only-of-type {\n",
       "        vertical-align: middle;\n",
       "    }\n",
       "\n",
       "    .dataframe tbody tr th {\n",
       "        vertical-align: top;\n",
       "    }\n",
       "\n",
       "    .dataframe thead th {\n",
       "        text-align: right;\n",
       "    }\n",
       "</style>\n",
       "<table border=\"1\" class=\"dataframe\">\n",
       "  <thead>\n",
       "    <tr style=\"text-align: right;\">\n",
       "      <th></th>\n",
       "      <th>userID</th>\n",
       "      <th>songID</th>\n",
       "      <th>rating</th>\n",
       "    </tr>\n",
       "  </thead>\n",
       "  <tbody>\n",
       "    <tr>\n",
       "      <th>0</th>\n",
       "      <td>0</td>\n",
       "      <td>7171</td>\n",
       "      <td>5</td>\n",
       "    </tr>\n",
       "    <tr>\n",
       "      <th>1</th>\n",
       "      <td>0</td>\n",
       "      <td>8637</td>\n",
       "      <td>4</td>\n",
       "    </tr>\n",
       "    <tr>\n",
       "      <th>2</th>\n",
       "      <td>0</td>\n",
       "      <td>21966</td>\n",
       "      <td>4</td>\n",
       "    </tr>\n",
       "    <tr>\n",
       "      <th>3</th>\n",
       "      <td>0</td>\n",
       "      <td>35821</td>\n",
       "      <td>5</td>\n",
       "    </tr>\n",
       "    <tr>\n",
       "      <th>4</th>\n",
       "      <td>0</td>\n",
       "      <td>82446</td>\n",
       "      <td>5</td>\n",
       "    </tr>\n",
       "    <tr>\n",
       "      <th>...</th>\n",
       "      <td>...</td>\n",
       "      <td>...</td>\n",
       "      <td>...</td>\n",
       "    </tr>\n",
       "    <tr>\n",
       "      <th>1999995</th>\n",
       "      <td>199999</td>\n",
       "      <td>75840</td>\n",
       "      <td>2</td>\n",
       "    </tr>\n",
       "    <tr>\n",
       "      <th>1999996</th>\n",
       "      <td>199999</td>\n",
       "      <td>85921</td>\n",
       "      <td>1</td>\n",
       "    </tr>\n",
       "    <tr>\n",
       "      <th>1999997</th>\n",
       "      <td>199999</td>\n",
       "      <td>116763</td>\n",
       "      <td>1</td>\n",
       "    </tr>\n",
       "    <tr>\n",
       "      <th>1999998</th>\n",
       "      <td>199999</td>\n",
       "      <td>128758</td>\n",
       "      <td>1</td>\n",
       "    </tr>\n",
       "    <tr>\n",
       "      <th>1999999</th>\n",
       "      <td>199999</td>\n",
       "      <td>129321</td>\n",
       "      <td>1</td>\n",
       "    </tr>\n",
       "  </tbody>\n",
       "</table>\n",
       "<p>2000000 rows × 3 columns</p>\n",
       "</div>"
      ],
      "text/plain": [
       "         userID  songID  rating\n",
       "0             0    7171       5\n",
       "1             0    8637       4\n",
       "2             0   21966       4\n",
       "3             0   35821       5\n",
       "4             0   82446       5\n",
       "...         ...     ...     ...\n",
       "1999995  199999   75840       2\n",
       "1999996  199999   85921       1\n",
       "1999997  199999  116763       1\n",
       "1999998  199999  128758       1\n",
       "1999999  199999  129321       1\n",
       "\n",
       "[2000000 rows x 3 columns]"
      ]
     },
     "execution_count": 5,
     "metadata": {},
     "output_type": "execute_result"
    }
   ],
   "source": [
    "songData"
   ]
  },
  {
   "cell_type": "code",
   "execution_count": 8,
   "metadata": {},
   "outputs": [
    {
     "name": "stdout",
     "output_type": "stream",
     "text": [
      "200000\n"
     ]
    }
   ],
   "source": [
    "#number of unique users?\n",
    "print(len(songData.userID.unique()))"
   ]
  },
  {
   "cell_type": "code",
   "execution_count": 14,
   "metadata": {},
   "outputs": [
    {
     "name": "stdout",
     "output_type": "stream",
     "text": [
      "Number of recorded songs each user has:\n",
      " 0         10\n",
      "4776      10\n",
      "115346    10\n",
      "117395    10\n",
      "127636    10\n",
      "          ..\n",
      "94586     10\n",
      "96635     10\n",
      "82300     10\n",
      "84349     10\n",
      "2047      10\n",
      "Name: userID, Length: 200000, dtype: int64\n",
      "\n",
      "\n",
      " 10    200000\n",
      "Name: userID, dtype: int64\n"
     ]
    }
   ],
   "source": [
    "#How many songs does each user have on average?\n",
    "print(\"Number of recorded songs each user has:\\n\", songData.userID.value_counts())\n",
    "\n",
    "#Looks like all users have 10 songs each? Lets confirm\n",
    "print(\"\\n\\n\", songData.userID.value_counts().value_counts())\n",
    "#Confirmed. All users have 10 records each. \n"
   ]
  },
  {
   "cell_type": "code",
   "execution_count": 18,
   "metadata": {},
   "outputs": [
    {
     "name": "stdout",
     "output_type": "stream",
     "text": [
      "Number of unique songs:  127771\n",
      "\n",
      "\n",
      "SongID value counts: \n",
      " 2726      1904\n",
      "22763     1880\n",
      "105433    1720\n",
      "43827     1600\n",
      "123176    1583\n",
      "          ... \n",
      "14523        1\n",
      "13749        1\n",
      "69393        1\n",
      "116488       1\n",
      "130520       1\n",
      "Name: songID, Length: 127771, dtype: int64\n"
     ]
    }
   ],
   "source": [
    "#Number of different songs?\n",
    "print(\"Number of unique songs: \", len(songData.songID.unique()))\n",
    "\n",
    "#How many times has each song been recorded on average?\n",
    "print(\"\\n\\nSongID value counts: \\n\", songData.songID.value_counts())\n"
   ]
  },
  {
   "cell_type": "code",
   "execution_count": null,
   "metadata": {},
   "outputs": [],
   "source": []
  }
 ],
 "metadata": {
  "interpreter": {
   "hash": "e42fa930882d9ab4f2179b96dea29a1a34e693169fa0bea1b39861e6c0f80f72"
  },
  "kernelspec": {
   "display_name": "Python 3.8.8 ('ML')",
   "language": "python",
   "name": "python3"
  },
  "language_info": {
   "codemirror_mode": {
    "name": "ipython",
    "version": 3
   },
   "file_extension": ".py",
   "mimetype": "text/x-python",
   "name": "python",
   "nbconvert_exporter": "python",
   "pygments_lexer": "ipython3",
   "version": "3.8.8"
  },
  "orig_nbformat": 4
 },
 "nbformat": 4,
 "nbformat_minor": 2
}
